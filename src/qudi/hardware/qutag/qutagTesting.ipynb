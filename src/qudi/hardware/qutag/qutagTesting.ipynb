{
 "cells": [
  {
   "cell_type": "code",
   "execution_count": 27,
   "metadata": {},
   "outputs": [],
   "source": [
    "import sys\n",
    "import time\n",
    "import matplotlib.pyplot as plt\n",
    "from typing import Any, Callable, Mapping, Optional\n",
    "# for plotting\n",
    "import matplotlib.pyplot as plt\n",
    "import matplotlib.animation as animation\n",
    "from matplotlib import style\n",
    "import numpy as np\n",
    "\n",
    "sys.path.append(\"C:\\\\Users\\\\Ozymandias\\\\TCSPC_project\\\\QuTag\\\\quTAG_MC-Software_Python-examples-20220711 (1)\\\\quTAG_MC-Software_Python-examples-20220711\")"
   ]
  },
  {
   "cell_type": "code",
   "execution_count": 28,
   "metadata": {},
   "outputs": [],
   "source": [
    "try:\n",
    "        import QuTAG_MC\n",
    "except:\n",
    "        Exception(\"Time Tagger wrapper QuTAG.py is not in the search path.\")"
   ]
  },
  {
   "cell_type": "code",
   "execution_count": 29,
   "metadata": {},
   "outputs": [
    {
     "name": "stdout",
     "output_type": "stream",
     "text": [
      "Initialize and Start with quTAG device:  No error\n"
     ]
    }
   ],
   "source": [
    "try:\n",
    "    qutag = QuTAG_MC.QuTAG()\n",
    "except Exception as e:\n",
    "    print(\"Error initializing quTAG: \", e)"
   ]
  },
  {
   "cell_type": "code",
   "execution_count": 30,
   "metadata": {},
   "outputs": [],
   "source": [
    "start = 0\n",
    "stop = 1"
   ]
  },
  {
   "cell_type": "code",
   "execution_count": 31,
   "metadata": {},
   "outputs": [],
   "source": [
    "# define lifetime histogram\n",
    "binwidth = 2\n",
    "bincount = 120"
   ]
  },
  {
   "cell_type": "code",
   "execution_count": 32,
   "metadata": {},
   "outputs": [
    {
     "data": {
      "text/plain": [
       "0"
      ]
     },
     "execution_count": 32,
     "metadata": {},
     "output_type": "execute_result"
    }
   ],
   "source": [
    "# Let's set some channel delays for adjusting the lifetime curve to the propper starting point at time difference zero\n",
    "delays = np.zeros(int(8), dtype=np.int32)\n",
    "delays[0] = 140 # ps\n",
    "qutag.setChannelDelay(0,140)"
   ]
  },
  {
   "cell_type": "code",
   "execution_count": 33,
   "metadata": {},
   "outputs": [
    {
     "name": "stdout",
     "output_type": "stream",
     "text": [
      "Enable:  0\n"
     ]
    }
   ],
   "source": [
    "# enable lifetime\n",
    "print(\"Enable: \", qutag.enableLFT(True))"
   ]
  },
  {
   "cell_type": "code",
   "execution_count": 34,
   "metadata": {},
   "outputs": [
    {
     "data": {
      "text/plain": [
       "0"
      ]
     },
     "execution_count": 34,
     "metadata": {},
     "output_type": "execute_result"
    }
   ],
   "source": [
    "# liftetime start input\n",
    "qutag.setLFTStartInput(start) "
   ]
  },
  {
   "cell_type": "code",
   "execution_count": 35,
   "metadata": {},
   "outputs": [
    {
     "data": {
      "text/plain": [
       "0"
      ]
     },
     "execution_count": 35,
     "metadata": {},
     "output_type": "execute_result"
    }
   ],
   "source": [
    "# set the parameters for the lifetime histigram\n",
    "qutag.setLFTParams(binwidth, bincount)"
   ]
  },
  {
   "cell_type": "code",
   "execution_count": 36,
   "metadata": {},
   "outputs": [
    {
     "data": {
      "text/plain": [
       "0"
      ]
     },
     "execution_count": 36,
     "metadata": {},
     "output_type": "execute_result"
    }
   ],
   "source": [
    "# add the histogram with the desired stop channel and the before defined start input\n",
    "qutag.addLFTHistogram(stop,True)"
   ]
  },
  {
   "cell_type": "code",
   "execution_count": 37,
   "metadata": {},
   "outputs": [],
   "source": [
    "# create function\n",
    "lftfunction = qutag.createLFTFunction()"
   ]
  },
  {
   "cell_type": "code",
   "execution_count": 38,
   "metadata": {},
   "outputs": [
    {
     "name": "stdout",
     "output_type": "stream",
     "text": [
      "params:  (2, 120)\n"
     ]
    }
   ],
   "source": [
    "params = qutag.getLFTParams()\n",
    "print(\"params: \", params)"
   ]
  },
  {
   "cell_type": "code",
   "execution_count": 40,
   "metadata": {},
   "outputs": [
    {
     "name": "stdout",
     "output_type": "stream",
     "text": [
      "getLFTHistogram\n",
      "<QuTAG_MC.LP_TDC_LftFunction object at 0x000001E1EC5EE1C0>\n",
      "Number of time diffs that were bigger than the biggest histogram bin:  0\n",
      "Number of start events contributing to the histogram:  0\n",
      "Number of stop events contributing to the histogram:  0\n",
      "Exposure time - the time difference between the first and last event that contribute to the histogram:  38500000000000\n"
     ]
    }
   ],
   "source": [
    "# get the lifetime histogram\n",
    "histo  = qutag.getLFTHistogram(stop,True,lftfunction)\n",
    "# Lifetime function lftfunction == histo[0]\n",
    "print(histo[0])\n",
    "print(\"Number of time diffs that were bigger than the biggest histogram bin: \", histo[1])\n",
    "print(\"Number of start events contributing to the histogram: \", histo[2])\n",
    "print(\"Number of stop events contributing to the histogram: \", histo[3])\n",
    "print(\"Exposure time - the time difference between the first and last event that contribute to the histogram: \", histo[4])"
   ]
  },
  {
   "cell_type": "code",
   "execution_count": 24,
   "metadata": {},
   "outputs": [
    {
     "name": "stdout",
     "output_type": "stream",
     "text": [
      "getLFTHistogram\n",
      "histo:  (<QuTAG_MC.LP_TDC_LftFunction object at 0x000001E1E2D173C0>, 0, 0, 0, 4040000000000)\n"
     ]
    }
   ],
   "source": [
    "# get the lifetime histogram\n",
    "histo  = qutag.getLFTHistogram(stop,True,lftfunction)\n",
    "print(\"histo: \", histo)"
   ]
  },
  {
   "cell_type": "code",
   "execution_count": 25,
   "metadata": {},
   "outputs": [
    {
     "name": "stdout",
     "output_type": "stream",
     "text": [
      "analyse:  (120, 120, 2, array([0., 0., 0., 0., 0., 0., 0., 0., 0., 0., 0., 0., 0., 0., 0., 0., 0.,\n",
      "       0., 0., 0., 0., 0., 0., 0., 0., 0., 0., 0., 0., 0., 0., 0., 0., 0.,\n",
      "       0., 0., 0., 0., 0., 0., 0., 0., 0., 0., 0., 0., 0., 0., 0., 0., 0.,\n",
      "       0., 0., 0., 0., 0., 0., 0., 0., 0., 0., 0., 0., 0., 0., 0., 0., 0.,\n",
      "       0., 0., 0., 0., 0., 0., 0., 0., 0., 0., 0., 0., 0., 0., 0., 0., 0.,\n",
      "       0., 0., 0., 0., 0., 0., 0., 0., 0., 0., 0., 0., 0., 0., 0., 0., 0.,\n",
      "       0., 0., 0., 0., 0., 0., 0., 0., 0., 0., 0., 0., 0., 0., 0., 0., 0.,\n",
      "       0.]))\n"
     ]
    }
   ],
   "source": [
    "analyse = qutag.analyseLFTFunction(lftfunction)\n",
    "print(\"analyse: \", analyse)"
   ]
  },
  {
   "cell_type": "code",
   "execution_count": 20,
   "metadata": {},
   "outputs": [
    {
     "data": {
      "image/png": "[encoded data removed]",
      "text/plain": [
       "<Figure size 1000x700 with 1 Axes>"
      ]
     },
     "metadata": {},
     "output_type": "display_data"
    }
   ],
   "source": [
    "qutag.deInitialize()\n",
    "\n",
    "\n",
    "# Plotting with mathplotlib\n",
    "style.use('fivethirtyeight')\n",
    "fig = plt.figure()\n",
    "fig.set_size_inches(10,7)\n",
    "ax1 = fig.add_subplot(1,1,1)\n",
    "plt.cla() # clear old plotting data\n",
    "# plot the datapoints\n",
    "plt.ticklabel_format(axis=\"y\", style=\"sci\", scilimits=(0,0))\n",
    "plt.plot(analyse[3])\n",
    "ax1.set_title('quTAG Lifetime')\t\t\n",
    "plt.pause(0.05)"
   ]
  },
  {
   "cell_type": "code",
   "execution_count": 4,
   "metadata": {},
   "outputs": [
    {
     "data": {
      "text/plain": [
       "0"
      ]
     },
     "execution_count": 4,
     "metadata": {},
     "output_type": "execute_result"
    }
   ],
   "source": [
    "qutag.setExposureTime(1)"
   ]
  },
  {
   "cell_type": "code",
   "execution_count": 5,
   "metadata": {},
   "outputs": [
    {
     "data": {
      "text/plain": [
       "0"
      ]
     },
     "execution_count": 5,
     "metadata": {},
     "output_type": "execute_result"
    }
   ],
   "source": [
    "qutag.enableChannels(True)"
   ]
  },
  {
   "cell_type": "code",
   "execution_count": 6,
   "metadata": {},
   "outputs": [
    {
     "data": {
      "text/plain": [
       "'11111111'"
      ]
     },
     "execution_count": 6,
     "metadata": {},
     "output_type": "execute_result"
    }
   ],
   "source": [
    "rc = qutag.getChannelsEnabled()\n",
    "rc"
   ]
  },
  {
   "cell_type": "code",
   "execution_count": 7,
   "metadata": {},
   "outputs": [
    {
     "data": {
      "text/plain": [
       "0"
      ]
     },
     "execution_count": 7,
     "metadata": {},
     "output_type": "execute_result"
    }
   ],
   "source": [
    "qutag.setCoincidenceWindow(1)"
   ]
  },
  {
   "cell_type": "code",
   "execution_count": 8,
   "metadata": {},
   "outputs": [
    {
     "name": "stdout",
     "output_type": "stream",
     "text": [
      "data:  [0 0 0 0 0 6 5 0 0 0 0 0 0 0 0 0 0 0 0 0 0 0 0 0 0 0 0 0 0 0 0 0 0 0 0 0 0\n",
      " 0 0 0 0 0 0 0 0 0 0 0 0 0 0 0 0 0 0 0 0 0 0]\n"
     ]
    }
   ],
   "source": [
    "data,updates = qutag.getCoincCounters()\n",
    "print(\"data: \", data)"
   ]
  },
  {
   "cell_type": "code",
   "execution_count": 28,
   "metadata": {},
   "outputs": [],
   "source": [
    "timestamps_data = qutag.getLastTimestamps(True)\n",
    "timestamps_array = timestamps_data[0]\n",
    "channel_numbers_array = timestamps_data[1]\n",
    "\n",
    "# Filter time-tags for a specific channel, e.g., channel 1\n",
    "channel_of_interest = 5\n",
    "time_tags_channel_1 = [timestamps_array[i] for i in range(len(timestamps_array)) if channel_numbers_array[i] == channel_of_interest]\n",
    "\n",
    "# Convert the time-tags to a more readable format if needed, e.g., from ps to ms\n",
    "time_tags_channel_1_ms = [tag / 1e9 for tag in time_tags_channel_1] # Convert ps to ms"
   ]
  },
  {
   "cell_type": "code",
   "execution_count": 29,
   "metadata": {},
   "outputs": [
    {
     "data": {
      "text/plain": [
       "111639.96275028889"
      ]
     },
     "execution_count": 29,
     "metadata": {},
     "output_type": "execute_result"
    }
   ],
   "source": [
    "time_tags_channel_1_ms[-1]-time_tags_channel_1_ms[0]"
   ]
  },
  {
   "cell_type": "code",
   "execution_count": 30,
   "metadata": {},
   "outputs": [
    {
     "name": "stdout",
     "output_type": "stream",
     "text": [
      "latest timestamp:  1778.467254037773\n"
     ]
    }
   ],
   "source": [
    "print(\"latest timestamp: \", timestamps_data[0][timestamps_data[2]-1]/(1E12))\n"
   ]
  },
  {
   "cell_type": "code",
   "execution_count": 31,
   "metadata": {},
   "outputs": [
    {
     "data": {
      "text/plain": [
       "475122"
      ]
     },
     "execution_count": 31,
     "metadata": {},
     "output_type": "execute_result"
    }
   ],
   "source": [
    "len(time_tags_channel_1)"
   ]
  },
  {
   "cell_type": "code",
   "execution_count": 32,
   "metadata": {},
   "outputs": [
    {
     "data": {
      "image/png": "[encoded data removed]",
      "text/plain": [
       "<Figure size 1000x600 with 1 Axes>"
      ]
     },
     "metadata": {},
     "output_type": "display_data"
    }
   ],
   "source": [
    "plt.figure(figsize=(10, 6))\n",
    "plt.plot(time_tags_channel_1_ms[0:30],time_tags_channel_1_ms[0:30], 'o') # Plot time-tags vs. event count\n",
    "plt.xlabel('Time (ms)')\n",
    "plt.ylabel('Event Count')\n",
    "plt.title(f'Time-Tags for Channel {channel_of_interest}')\n",
    "plt.show()"
   ]
  },
  {
   "cell_type": "code",
   "execution_count": 102,
   "metadata": {},
   "outputs": [
    {
     "data": {
      "text/plain": [
       "1"
      ]
     },
     "execution_count": 102,
     "metadata": {},
     "output_type": "execute_result"
    }
   ],
   "source": [
    "rc=qutag.getDataLost()\n",
    "rc"
   ]
  },
  {
   "cell_type": "code",
   "execution_count": 103,
   "metadata": {},
   "outputs": [],
   "source": [
    "timebase=qutag.getTimebase()"
   ]
  },
  {
   "cell_type": "code",
   "execution_count": 104,
   "metadata": {},
   "outputs": [
    {
     "data": {
      "text/plain": [
       "1e-12"
      ]
     },
     "execution_count": 104,
     "metadata": {},
     "output_type": "execute_result"
    }
   ],
   "source": [
    "timebase"
   ]
  },
  {
   "cell_type": "code",
   "execution_count": 105,
   "metadata": {},
   "outputs": [],
   "source": [
    "na, coincWin, expTime=qutag.getDeviceParams()"
   ]
  },
  {
   "cell_type": "code",
   "execution_count": null,
   "metadata": {},
   "outputs": [],
   "source": []
  },
  {
   "cell_type": "code",
   "execution_count": 44,
   "metadata": {},
   "outputs": [
    {
     "data": {
      "text/plain": [
       "(0, 100, 1)"
      ]
     },
     "execution_count": 44,
     "metadata": {},
     "output_type": "execute_result"
    }
   ],
   "source": [
    "na, coincWin, expTime"
   ]
  },
  {
   "cell_type": "code",
   "execution_count": 25,
   "metadata": {},
   "outputs": [
    {
     "data": {
      "text/plain": [
       "1e-10"
      ]
     },
     "execution_count": 25,
     "metadata": {},
     "output_type": "execute_result"
    }
   ],
   "source": [
    "100*1e-12"
   ]
  },
  {
   "cell_type": "code",
   "execution_count": 77,
   "metadata": {},
   "outputs": [
    {
     "name": "stdout",
     "output_type": "stream",
     "text": [
      "getCalibrationState 1\n",
      "CalibrationState done: 0\n"
     ]
    }
   ],
   "source": [
    "rc = qutag.startCalibration()\n",
    "# wait a little to get the device started calibrating\n",
    "time.sleep(.5)\n",
    "\n",
    "calibState = qutag.getCalibrationState()\n",
    "print(\"getCalibrationState\", calibState)\n",
    "\n",
    "while calibState:\n",
    "\ttime.sleep(0.1)\n",
    "\tcalibState = qutag.getCalibrationState()\n",
    "\t#print(\"getCalibrationState: \", calibState)\n",
    "print(\"CalibrationState done:\", calibState)"
   ]
  },
  {
   "cell_type": "code",
   "execution_count": 4,
   "metadata": {},
   "outputs": [
    {
     "data": {
      "text/plain": [
       "True"
      ]
     },
     "execution_count": 4,
     "metadata": {},
     "output_type": "execute_result"
    }
   ],
   "source": [
    "qutag.checkFeatureHBT()"
   ]
  },
  {
   "cell_type": "code",
   "execution_count": 6,
   "metadata": {},
   "outputs": [
    {
     "data": {
      "text/plain": [
       "0"
      ]
     },
     "execution_count": 6,
     "metadata": {},
     "output_type": "execute_result"
    }
   ],
   "source": [
    "qutag.enableHBT(True)"
   ]
  },
  {
   "cell_type": "code",
   "execution_count": 7,
   "metadata": {},
   "outputs": [
    {
     "data": {
      "text/plain": [
       "1e-12"
      ]
     },
     "execution_count": 7,
     "metadata": {},
     "output_type": "execute_result"
    }
   ],
   "source": [
    "qutag.getTimebase()"
   ]
  },
  {
   "cell_type": "code",
   "execution_count": 8,
   "metadata": {},
   "outputs": [],
   "source": [
    "ps=qutag.getTimebase()\n",
    "ns=1000*ps"
   ]
  },
  {
   "cell_type": "code",
   "execution_count": 9,
   "metadata": {},
   "outputs": [],
   "source": [
    "plotWidth=300*ns"
   ]
  },
  {
   "cell_type": "code",
   "execution_count": 10,
   "metadata": {},
   "outputs": [],
   "source": [
    "binCount=1000"
   ]
  },
  {
   "cell_type": "code",
   "execution_count": 11,
   "metadata": {},
   "outputs": [],
   "source": [
    "binWidth=plotWidth/binCount"
   ]
  },
  {
   "cell_type": "code",
   "execution_count": 53,
   "metadata": {},
   "outputs": [
    {
     "data": {
      "text/plain": [
       "0"
      ]
     },
     "execution_count": 53,
     "metadata": {},
     "output_type": "execute_result"
    }
   ],
   "source": [
    "qutag.setHBTParams(int(binWidth/ps), binCount)"
   ]
  },
  {
   "cell_type": "code",
   "execution_count": 54,
   "metadata": {},
   "outputs": [],
   "source": [
    "fct=qutag.createHBTFunction()"
   ]
  },
  {
   "cell_type": "code",
   "execution_count": 55,
   "metadata": {},
   "outputs": [
    {
     "data": {
      "text/plain": [
       "(300, 1000)"
      ]
     },
     "execution_count": 55,
     "metadata": {},
     "output_type": "execute_result"
    }
   ],
   "source": [
    "qutag.getHBTParams()"
   ]
  },
  {
   "cell_type": "code",
   "execution_count": 56,
   "metadata": {},
   "outputs": [
    {
     "data": {
      "text/plain": [
       "0"
      ]
     },
     "execution_count": 56,
     "metadata": {},
     "output_type": "execute_result"
    }
   ],
   "source": [
    "qutag.setHBTInput(5,6)"
   ]
  },
  {
   "cell_type": "code",
   "execution_count": 159,
   "metadata": {},
   "outputs": [
    {
     "name": "stdout",
     "output_type": "stream",
     "text": [
      "2875.768369975808\n"
     ]
    },
    {
     "data": {
      "text/plain": [
       "[<matplotlib.lines.Line2D at 0x15cb99c1880>]"
      ]
     },
     "execution_count": 159,
     "metadata": {},
     "output_type": "execute_result"
    },
    {
     "data": {
      "image/png": "[encoded data removed]",
      "text/plain": [
       "<Figure size 640x480 with 1 Axes>"
      ]
     },
     "metadata": {},
     "output_type": "display_data"
    }
   ],
   "source": [
    "print(qutag.getHBTIntegrationTime())\n",
    "qutag.getHBTCorrelations(0, fct)\n",
    "qutag.calcHBTG2(fct)\n",
    "analyse1 = qutag.analyzeHBTFunction(fct)\n",
    "qutag.getHBTCorrelations(1, fct)\n",
    "qutag.calcHBTG2(fct)\n",
    "analyse2 = qutag.analyzeHBTFunction(fct)\n",
    "timeBins=np.linspace(-binWidth*binCount, binWidth*binCount, num=1999)\n",
    "plt.plot(timeBins,analyse1[4]-analyse2[4])"
   ]
  },
  {
   "cell_type": "code",
   "execution_count": 160,
   "metadata": {},
   "outputs": [
    {
     "data": {
      "text/plain": [
       "(1999,\n",
       " 1999,\n",
       " 300,\n",
       " 999,\n",
       " array([0.98629842, 1.0604562 , 0.99124227, ..., 1.10495086, 0.98629842,\n",
       "        1.04315271]))"
      ]
     },
     "execution_count": 160,
     "metadata": {},
     "output_type": "execute_result"
    }
   ],
   "source": [
    "analyse1"
   ]
  },
  {
   "cell_type": "code",
   "execution_count": 158,
   "metadata": {},
   "outputs": [
    {
     "name": "stdout",
     "output_type": "stream",
     "text": [
      "2800.991700679943\n"
     ]
    },
    {
     "data": {
      "text/plain": [
       "[<matplotlib.lines.Line2D at 0x15cb9abed90>]"
      ]
     },
     "execution_count": 158,
     "metadata": {},
     "output_type": "execute_result"
    },
    {
     "data": {
      "image/png": "[encoded data removed]",
      "text/plain": [
       "<Figure size 640x480 with 1 Axes>"
      ]
     },
     "metadata": {},
     "output_type": "display_data"
    }
   ],
   "source": [
    "print(qutag.getHBTIntegrationTime())\n",
    "qutag.getHBTCorrelations(1, fct)\n",
    "qutag.calcHBTG2(fct)\n",
    "analyse = qutag.analyzeHBTFunction(fct)\n",
    "timeBins=np.linspace(-binWidth*binCount, binWidth*binCount, num=1999)\n",
    "plt.plot(timeBins,analyse[4])"
   ]
  },
  {
   "cell_type": "code",
   "execution_count": null,
   "metadata": {},
   "outputs": [],
   "source": []
  },
  {
   "cell_type": "code",
   "execution_count": 139,
   "metadata": {},
   "outputs": [],
   "source": []
  },
  {
   "cell_type": "code",
   "execution_count": 140,
   "metadata": {},
   "outputs": [
    {
     "ename": "ArgumentError",
     "evalue": "argument 1: <class 'TypeError'>: expected LP_TDC_HbtFunction instance instead of int",
     "output_type": "error",
     "traceback": [
      "\u001b[1;31m---------------------------------------------------------------------------\u001b[0m",
      "\u001b[1;31mArgumentError\u001b[0m                             Traceback (most recent call last)",
      "Cell \u001b[1;32mIn[140], line 1\u001b[0m\n\u001b[1;32m----> 1\u001b[0m analyse \u001b[38;5;241m=\u001b[39m \u001b[43mqutag\u001b[49m\u001b[38;5;241;43m.\u001b[39;49m\u001b[43manalyzeHBTFunction\u001b[49m\u001b[43m(\u001b[49m\u001b[43mcalc\u001b[49m\u001b[43m)\u001b[49m\n",
      "File \u001b[1;32m~\\TCSPC_project\\QuTag\\quTAG_MC-Software_Python-examples-20220711 (1)\\quTAG_MC-Software_Python-examples-20220711\\QuTAG_MC.py:1124\u001b[0m, in \u001b[0;36mQuTAG.analyzeHBTFunction\u001b[1;34m(self, hbtfunction)\u001b[0m\n\u001b[0;32m   1122\u001b[0m iOffset \u001b[38;5;241m=\u001b[39m ctypes\u001b[38;5;241m.\u001b[39mc_int32()\n\u001b[0;32m   1123\u001b[0m values \u001b[38;5;241m=\u001b[39m np\u001b[38;5;241m.\u001b[39mzeros(\u001b[38;5;28mself\u001b[39m\u001b[38;5;241m.\u001b[39m_HBTBufferSize,dtype\u001b[38;5;241m=\u001b[39mnp\u001b[38;5;241m.\u001b[39mdouble)\n\u001b[1;32m-> 1124\u001b[0m \u001b[38;5;28;43mself\u001b[39;49m\u001b[38;5;241;43m.\u001b[39;49m\u001b[43mqutools_dll\u001b[49m\u001b[38;5;241;43m.\u001b[39;49m\u001b[43mTDC_analyseHbtFunction\u001b[49m\u001b[43m(\u001b[49m\u001b[43mhbtfunction\u001b[49m\u001b[43m,\u001b[49m\u001b[43mctypes\u001b[49m\u001b[38;5;241;43m.\u001b[39;49m\u001b[43mbyref\u001b[49m\u001b[43m(\u001b[49m\u001b[43mcapacity\u001b[49m\u001b[43m)\u001b[49m\u001b[43m,\u001b[49m\u001b[43mctypes\u001b[49m\u001b[38;5;241;43m.\u001b[39;49m\u001b[43mbyref\u001b[49m\u001b[43m(\u001b[49m\u001b[43msize\u001b[49m\u001b[43m)\u001b[49m\u001b[43m,\u001b[49m\u001b[43mctypes\u001b[49m\u001b[38;5;241;43m.\u001b[39;49m\u001b[43mbyref\u001b[49m\u001b[43m(\u001b[49m\u001b[43mbinWidth\u001b[49m\u001b[43m)\u001b[49m\u001b[43m,\u001b[49m\u001b[43mctypes\u001b[49m\u001b[38;5;241;43m.\u001b[39;49m\u001b[43mbyref\u001b[49m\u001b[43m(\u001b[49m\u001b[43miOffset\u001b[49m\u001b[43m)\u001b[49m\u001b[43m,\u001b[49m\u001b[43mvalues\u001b[49m\u001b[38;5;241;43m.\u001b[39;49m\u001b[43mctypes\u001b[49m\u001b[38;5;241;43m.\u001b[39;49m\u001b[43mdata_as\u001b[49m\u001b[43m(\u001b[49m\u001b[43mctypes\u001b[49m\u001b[38;5;241;43m.\u001b[39;49m\u001b[43mPOINTER\u001b[49m\u001b[43m(\u001b[49m\u001b[43mctypes\u001b[49m\u001b[38;5;241;43m.\u001b[39;49m\u001b[43mc_double\u001b[49m\u001b[43m)\u001b[49m\u001b[43m)\u001b[49m\u001b[43m,\u001b[49m\u001b[38;5;28;43mself\u001b[39;49m\u001b[38;5;241;43m.\u001b[39;49m\u001b[43m_HBTBufferSize\u001b[49m\u001b[43m)\u001b[49m\n\u001b[0;32m   1126\u001b[0m \u001b[38;5;28;01mreturn\u001b[39;00m (capacity\u001b[38;5;241m.\u001b[39mvalue,size\u001b[38;5;241m.\u001b[39mvalue,binWidth\u001b[38;5;241m.\u001b[39mvalue,iOffset\u001b[38;5;241m.\u001b[39mvalue,values)\n",
      "\u001b[1;31mArgumentError\u001b[0m: argument 1: <class 'TypeError'>: expected LP_TDC_HbtFunction instance instead of int"
     ]
    }
   ],
   "source": [
    "analyse = qutag.analyzeHBTFunction(calc)"
   ]
  },
  {
   "cell_type": "code",
   "execution_count": null,
   "metadata": {},
   "outputs": [],
   "source": []
  }
 ],
 "metadata": {
  "kernelspec": {
   "display_name": "qudi-env",
   "language": "python",
   "name": "python3"
  },
  "language_info": {
   "codemirror_mode": {
    "name": "ipython",
    "version": 3
   },
   "file_extension": ".py",
   "mimetype": "text/x-python",
   "name": "python",
   "nbconvert_exporter": "python",
   "pygments_lexer": "ipython3",
   "version": "3.9.17"
  }
 },
 "nbformat": 4,
 "nbformat_minor": 2
}
